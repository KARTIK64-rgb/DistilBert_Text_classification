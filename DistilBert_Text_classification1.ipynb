{
 "cells": [
  {
   "cell_type": "markdown",
   "metadata": {
    "id": "F-5LmiSPXuA_"
   },
   "source": [
    "Hugging face transfomers ,datsets,evaluate like BLEU"
   ]
  },
  {
   "cell_type": "code",
   "execution_count": null,
   "metadata": {
    "colab": {
     "base_uri": "https://localhost:8080/"
    },
    "id": "zvpFtIHDiy4T",
    "outputId": "fdd3969e-54df-43f7-ce4d-f42ac901700d"
   },
   "outputs": [],
   "source": [
    "# Uninstall W&B to avoid errors\n",
    "!pip uninstall -y wandb\n",
    "\n",
    "# Install Hugging Face libraries\n",
    "!pip install -U transformers datasets evaluate -q"
   ]
  },
  {
   "cell_type": "code",
   "execution_count": null,
   "metadata": {
    "id": "8L2hTq_2oGgK"
   },
   "outputs": [],
   "source": [
    "import os\n",
    "\n",
    "# Disable wandb before it's ever used\n",
    "os.environ[\"WANDB_DISABLED\"] = \"true\"\n",
    "\n",
    "# Optional but good practice\n",
    "os.environ[\"WANDB_MODE\"] = \"offline\"\n"
   ]
  },
  {
   "cell_type": "code",
   "execution_count": null,
   "metadata": {
    "colab": {
     "base_uri": "https://localhost:8080/"
    },
    "id": "R4KyCiOYi4Dq",
    "outputId": "3319956f-ce12-46b8-9592-2d993e1ebaa5"
   },
   "outputs": [],
   "source": [
    "import transformers\n",
    "print(transformers.__version__)"
   ]
  },
  {
   "cell_type": "code",
   "execution_count": null,
   "metadata": {
    "id": "bek6sq1lX-wI"
   },
   "outputs": [],
   "source": [
    "import pandas as pd\n",
    "\n",
    "# Load your CSV files\n",
    "train_df = pd.read_csv(\"/content/train.csv\")\n",
    "test_df = pd.read_csv(\"/content/test.csv\")\n",
    "\n",
    "# Combine Title and Description into a single text column\n",
    "train_df[\"text\"] = train_df[\"Title\"] + \" \" + train_df[\"Description\"]\n",
    "test_df[\"text\"] = test_df[\"Title\"] + \" \" + test_df[\"Description\"]\n",
    "\n",
    "# Convert class index from 1-4 to 0-3\n",
    "train_df[\"label\"] = train_df[\"Class Index\"] - 1\n",
    "test_df[\"label\"] = test_df[\"Class Index\"] - 1\n",
    "\n",
    "# Keep only necessary columns\n",
    "train_df = train_df[[\"text\", \"label\"]]\n",
    "test_df = test_df[[\"text\", \"label\"]]\n"
   ]
  },
  {
   "cell_type": "code",
   "execution_count": null,
   "metadata": {
    "colab": {
     "base_uri": "https://localhost:8080/",
     "height": 206
    },
    "id": "YyIbGZ1UYKD-",
    "outputId": "7b54e39e-6f23-493a-9f1f-cd513b54e7fb"
   },
   "outputs": [],
   "source": [
    "train_df.sample(5)"
   ]
  },
  {
   "cell_type": "code",
   "execution_count": null,
   "metadata": {
    "id": "OZ-YL8yXYFYT"
   },
   "outputs": [],
   "source": [
    "from datasets import Dataset\n",
    "\n",
    "# Convert to Hugging Face datasets\n",
    "train_dataset = Dataset.from_pandas(train_df)\n",
    "test_dataset = Dataset.from_pandas(test_df)\n",
    "\n",
    "# Combine into a DatasetDict\n",
    "from datasets import DatasetDict\n",
    "dataset = DatasetDict({\n",
    "    \"train\": train_dataset,\n",
    "    \"test\": test_dataset\n",
    "})\n"
   ]
  },
  {
   "cell_type": "code",
   "execution_count": null,
   "metadata": {
    "colab": {
     "base_uri": "https://localhost:8080/"
    },
    "id": "_5_MArTnI0f_",
    "outputId": "6df632d9-617a-43d8-aef8-1c44ef3c745a"
   },
   "outputs": [],
   "source": [
    "train_dataset"
   ]
  },
  {
   "cell_type": "code",
   "execution_count": null,
   "metadata": {
    "colab": {
     "base_uri": "https://localhost:8080/"
    },
    "id": "ZNMYc83bI530",
    "outputId": "f67e1cab-1f23-4b18-a37b-a7b9c71158e4"
   },
   "outputs": [],
   "source": [
    "test_dataset"
   ]
  },
  {
   "cell_type": "code",
   "execution_count": null,
   "metadata": {
    "colab": {
     "base_uri": "https://localhost:8080/",
     "height": 333,
     "referenced_widgets": [
      "708d5af642974bf5bd042f560fcf2394",
      "ddb116b0eeae453ab0a0ca00ad23fbe8",
      "c8ab5e6a8c0d4c768af25f9138c68655",
      "d8a2b7904d244e8bb2852668a923ca7f",
      "98a0d6b01f1748078bfdb4b90ae90d30",
      "5c3430a4a1ed43dc9fc6ec04f04e6eae",
      "a6728a49aee443689526c1052fce97fc",
      "9b809c8a04cf4497a22fd56428f47a5c",
      "d03acaeb0809468bbad7a7ed898fbaf9",
      "8c6e94c2a9d040929b50b2646d360b22",
      "6892271dfd954c5e8671b316b05b6a54",
      "c238688f5cd9483e9dc0aa57480c9ef5",
      "d393513366ad4fb59279638d976e905f",
      "0760859021e24ada985a5bacff6367d8",
      "6785629e081e4889809c6d3bd0624c1f",
      "4cbc39ec201642ca8e8d5effbf1d476d",
      "81bc120cb7514663aa1907a8c8626865",
      "abf7ded06aa34d59885377040d4c9c5c",
      "a2964595274544a6ae88fefeb89fd907",
      "484d9c4af0de41deb729ab0ffe596f21",
      "cea0a586c8344621bf170fdc860c9362",
      "509e4c9332ee4ecfb2d8437a003e0abd",
      "72fef325f5844718a01c8a9240b1e33e",
      "1e36800b21604c5db1537ff36699f1b0",
      "55d2f83005bd4c8f87dba77053460887",
      "394f38927248462b89d1313741256d16",
      "45f4eed7e4b04b698223b4dc7f68a1f2",
      "94e6e520e3114831a6c2dd0565604988",
      "b38dcb07e65f4cc4ba5e1b2cd927f7ce",
      "6d673708c2834e1984b2f601c393bb44",
      "83079f8f67cd43bc85cb287fc946989b",
      "3bfb435a53f34d62b4ac21e310fe0f61",
      "f2dae2487ce346a78b7f7875724ad529",
      "28c9245b1fd641c8af12ae482f6bd542",
      "16a42b45ccbe4695ac1d1ed921e5600c",
      "c9b956f33c8248698173fa6af6348117",
      "d8dcb94284844c04a9dbc9330f20d787",
      "279e74b15cdc446cba0ee3667e2d4b02",
      "275e66f394cf49b392eaf99d6d051c95",
      "0b61c0c54d00487ab8a884c68fc9c40d",
      "9dce340c2fc0441a92ce092ef56ce79c",
      "2768ae3a54494be1974e886e8c4af472",
      "b59bb6090bdf42ce8c14445e6b93872e",
      "989bd35b62304abea2d9c9e971ffbb68",
      "476acd7d9c0f4bffb6b62c95f28272f4",
      "f3eb60dbc04649c7addc1e9eebc2426f",
      "802b126e81514d91afbab653b1078857",
      "2d84a4bc95a44a4bb0f3a1ba4ba13f2b",
      "af38224ceed04bccaaf76ec464b0a40c",
      "d84507e2f40142f8b1be1666a30e4341",
      "bdc393a36ad74cdaaf761e6a6fd0ba20",
      "c01f7aadd74842808790eeab3093e25a",
      "5b716ff39aef4131bc34ade5a6dd90ef",
      "3323b6b9a1ef42a1b250fcf7ab867a14",
      "d93637659d8e4574b47994a3a6196ce3",
      "dc6873d5dbc945c5a393c287cbe03430",
      "c2a6767b264d4f34af92023eea0b0208",
      "fccdf0e0281f4740bef76602efc1cdc6",
      "125d0074282d4207b82b0e2a71fd43e9",
      "c9828c5d92a44ca1a66b314d6ecddcf0",
      "3d6d18f0d3e74ad8af065268ef33880f",
      "3930e6c299a3422791356cac6cfdf05b",
      "3340d157ae77402eb304d0ff001c4da6",
      "40c816995a2a4f73ad2cf17fefe8bf85",
      "45bcd46ec2ff4c4494ff20c6028cbcd5",
      "804a1fa0879c4d969221871b832b63a1"
     ]
    },
    "id": "uX5Ub2V1ahcN",
    "outputId": "3b2e9090-8736-45da-8440-b24e3505ae2c"
   },
   "outputs": [],
   "source": [
    "from transformers import DistilBertTokenizerFast\n",
    "\n",
    "tokenizer = DistilBertTokenizerFast.from_pretrained(\"distilbert-base-uncased\")\n",
    "\n",
    "def tokenize(example):\n",
    "    return tokenizer(example[\"text\"], truncation=True, padding=\"max_length\", max_length=256)\n",
    "\n",
    "encoded_dataset = dataset.map(tokenize, batched=True)\n",
    "encoded_dataset.set_format(type=\"torch\", columns=[\"input_ids\", \"attention_mask\", \"label\"])\n"
   ]
  },
  {
   "cell_type": "code",
   "execution_count": null,
   "metadata": {
    "colab": {
     "base_uri": "https://localhost:8080/"
    },
    "id": "uejKrSXMJJUp",
    "outputId": "5a9c5e8b-2498-4bef-965d-507bfb88c9bc"
   },
   "outputs": [],
   "source": [
    "encoded_dataset[\"train\"][0]"
   ]
  },
  {
   "cell_type": "code",
   "execution_count": null,
   "metadata": {
    "colab": {
     "base_uri": "https://localhost:8080/",
     "height": 153,
     "referenced_widgets": [
      "32629fb81b5e435db591485463f8c1cf",
      "68cd9c92e2bb4fd4993ae4ac2c0e0646",
      "b6fc8b7c5eaa47deb667d8c91311f39c",
      "1c4dc880a6664d96931c4818be0f7c3b",
      "764b2218d9b749d2a7c08e63cf9eb203",
      "e6de0f3656c245bd8d35e5b272edd847",
      "3074a772b1174676b8eeda48b5934e95",
      "fcd86bd07329433eaf0db3146da79ff1",
      "03e77b3ebf0844af81f0e5b6ff634787",
      "06718488831941938a81b1fc98258cac",
      "f814344ee37a4c86a8d6c2a81b119685",
      "a3e2c209c80e4dee87d14a6aa38ac7af",
      "0bcc8333904243558d2186b4daa1110f",
      "0f1da3187c274da5ba9d5aa5531c1abf",
      "074b0bba91fd40209674edec32c9a119",
      "625503eb1cd94b028d2aa7e6bf888bc5",
      "3ee6f3627ee34d38810a5932233dc0f1",
      "14238a5785fd44f0992daed4dfae49c6",
      "0b0187168aa54f43a869d87a416ca592",
      "70ac41daf9544a31a0d44fa40f5411eb",
      "10d3a50324ce4a49a56449730b49de10",
      "1c7a34315df8497297243d7656ff1ecb"
     ]
    },
    "id": "evh_kl2fcwMu",
    "outputId": "242262dc-c717-4133-d869-4f6b53863c43"
   },
   "outputs": [],
   "source": [
    "from transformers import DistilBertForSequenceClassification, Trainer, TrainingArguments\n",
    "import evaluate\n",
    "import numpy as np\n",
    "\n",
    "# Load model\n",
    "model = DistilBertForSequenceClassification.from_pretrained(\"distilbert-base-uncased\", num_labels=4)\n",
    "\n",
    "# Define metrics\n",
    "accuracy = evaluate.load(\"accuracy\")\n",
    "def compute_metrics(eval_pred):\n",
    "    logits, labels = eval_pred\n",
    "    predictions = np.argmax(logits, axis=-1)\n",
    "    return accuracy.compute(predictions=predictions, references=labels)\n",
    "\n",
    "# Training setup\n",
    "# Ensure transformers is up-to-date before this\n",
    "training_args = TrainingArguments(\n",
    "    output_dir=\"./results\",\n",
    "    # 'evaluation_strategy' was renamed to 'eval_strategy' in newer versions\n",
    "    eval_strategy=\"epoch\",\n",
    "    num_train_epochs=3,\n",
    "    per_device_train_batch_size=16,\n",
    "    per_device_eval_batch_size=16,\n",
    "    logging_steps=50,\n",
    "    weight_decay=0.01\n",
    ")\n",
    "\n",
    "# Train\n",
    "trainer = Trainer(\n",
    "    model=model,\n",
    "    args=training_args,\n",
    "    train_dataset=encoded_dataset[\"train\"],\n",
    "    eval_dataset=encoded_dataset[\"test\"],\n",
    "    compute_metrics=compute_metrics\n",
    ")"
   ]
  },
  {
   "cell_type": "code",
   "execution_count": null,
   "metadata": {
    "id": "M4X_6c0Ws9t6"
   },
   "outputs": [],
   "source": [
    "for param in model.distilbert.parameters():   #transfer learning so freezing the layers of distillbert\n",
    "    param.requires_grad = False"
   ]
  },
  {
   "cell_type": "code",
   "execution_count": null,
   "metadata": {
    "colab": {
     "base_uri": "https://localhost:8080/",
     "height": 204
    },
    "id": "PKIkhH_qm6gJ",
    "outputId": "3c474532-43cf-4ce4-fff5-6bc9df7650f6"
   },
   "outputs": [],
   "source": [
    "trainer.train()"
   ]
  },
  {
   "cell_type": "code",
   "execution_count": null,
   "metadata": {
    "colab": {
     "base_uri": "https://localhost:8080/",
     "height": 141
    },
    "id": "JymDG53SKGnL",
    "outputId": "5f9533ca-b00f-4c74-a6e3-9f7b498533af"
   },
   "outputs": [],
   "source": [
    "trainer.evaluate()"
   ]
  },
  {
   "cell_type": "code",
   "execution_count": null,
   "metadata": {
    "colab": {
     "base_uri": "https://localhost:8080/"
    },
    "id": "SL8DyehMW7_y",
    "outputId": "bb181df3-4032-4c61-d026-83e7d8396840"
   },
   "outputs": [],
   "source": [
    "import torch\n",
    "\n",
    "# Set the device (automatically handles GPU or CPU)\n",
    "device = torch.device(\"cuda\" if torch.cuda.is_available() else \"cpu\")\n",
    "model.to(device)  # Move model to the right device\n",
    "\n",
    "# Updated predict function\n",
    "def predict(text):\n",
    "    inputs = tokenizer(text, return_tensors=\"pt\", truncation=True, padding=True, max_length=128)\n",
    "    inputs = {k: v.to(device) for k, v in inputs.items()}  # Move inputs to same device\n",
    "    with torch.no_grad():\n",
    "        outputs = model(**inputs)\n",
    "        predicted_class = outputs.logits.argmax(dim=1).item()\n",
    "    return predicted_class\n",
    "\n",
    "\n",
    "text = \"Virat kohli won the ipl trophy\"\n",
    "print(\"Predicted class index:\", predict(text))\n",
    "\n"
   ]
  },
  {
   "cell_type": "code",
   "execution_count": null,
   "metadata": {
    "colab": {
     "base_uri": "https://localhost:8080/"
    },
    "id": "d4ALjIRxXZGG",
    "outputId": "812b7917-af38-491f-c306-51c1ca51d4ee"
   },
   "outputs": [],
   "source": [
    "label_map = {0: \"World\", 1: \"Sports\", 2: \"Business\", 3: \"Sci/Tech\"}\n",
    "print(\"Predicted Label:\", label_map[predict(text)])\n"
   ]
  }
 ],
 "metadata": {
  "accelerator": "GPU",
  "colab": {
   "gpuType": "T4",
   "provenance": []
  },
  "kernelspec": {
   "display_name": "Python 3",
   "name": "python3"
  },
  "language_info": {
   "name": "python"
  }
 },
 "nbformat": 4,
 "nbformat_minor": 0
}
